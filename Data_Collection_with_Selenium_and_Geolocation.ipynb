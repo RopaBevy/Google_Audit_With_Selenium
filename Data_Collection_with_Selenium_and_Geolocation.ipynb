{
 "cells": [
  {
   "cell_type": "markdown",
   "metadata": {},
   "source": [
    "# Google Search Results for Various Geographical Locations\n",
    "\n",
    "**Author: Eni Mustafaraj**  \n",
    "**January 2022**\n",
    "\n",
    "Researchers who audit search engines need to search Google by pretending to be in many locations, in order to see how the algorithm works and what the quality of search results is in different areas of the country.\n",
    "\n",
    "This notebook uses a CSV file that contains geo-locations for all counties in the United States in the form of latitude and longitude values. These values are used to change the geolocation of the Chrome browser, via Selenium. Once this is done, the search results on Google Search will typically reflect the results for that location.\n",
    "\n",
    "**Table of Contents**\n",
    "\n",
    "1. [Get the geolocation data](#sec1)\n",
    "2. [Randomly pick some locations](#sec2)\n",
    "3. [Setup the Selenium driver](#sec3)\n",
    "4. [Perform searches](#sec4)"
   ]
  },
  {
   "cell_type": "markdown",
   "metadata": {},
   "source": [
    "<a id=\"sec1\"></a>\n",
    "## 1. Get the geolocation data\n",
    "\n",
    "This data is in a CSV file associated with the paper \"Auditing local news presence on Google News\"."
   ]
  },
  {
   "cell_type": "code",
   "execution_count": 2,
   "metadata": {},
   "outputs": [],
   "source": [
    "import pandas as pd"
   ]
  },
  {
   "cell_type": "code",
   "execution_count": 3,
   "metadata": {},
   "outputs": [
    {
     "data": {
      "text/html": [
       "<div>\n",
       "<style scoped>\n",
       "    .dataframe tbody tr th:only-of-type {\n",
       "        vertical-align: middle;\n",
       "    }\n",
       "\n",
       "    .dataframe tbody tr th {\n",
       "        vertical-align: top;\n",
       "    }\n",
       "\n",
       "    .dataframe thead th {\n",
       "        text-align: right;\n",
       "    }\n",
       "</style>\n",
       "<table border=\"1\" class=\"dataframe\">\n",
       "  <thead>\n",
       "    <tr style=\"text-align: right;\">\n",
       "      <th></th>\n",
       "      <th>Unnamed: 0</th>\n",
       "      <th>sno</th>\n",
       "      <th>State</th>\n",
       "      <th>FIPS</th>\n",
       "      <th>County</th>\n",
       "      <th>CountySeat</th>\n",
       "      <th>Population</th>\n",
       "      <th>Latitude</th>\n",
       "      <th>Longitude</th>\n",
       "    </tr>\n",
       "  </thead>\n",
       "  <tbody>\n",
       "    <tr>\n",
       "      <th>0</th>\n",
       "      <td>606</td>\n",
       "      <td>607</td>\n",
       "      <td>IL</td>\n",
       "      <td>17023</td>\n",
       "      <td>Clark</td>\n",
       "      <td>Marshall</td>\n",
       "      <td>16,335</td>\n",
       "      <td>39.332364</td>\n",
       "      <td>-87.791687</td>\n",
       "    </tr>\n",
       "    <tr>\n",
       "      <th>1</th>\n",
       "      <td>875</td>\n",
       "      <td>876</td>\n",
       "      <td>IA</td>\n",
       "      <td>19173</td>\n",
       "      <td>Taylor</td>\n",
       "      <td>Bedford</td>\n",
       "      <td>6,317</td>\n",
       "      <td>40.737949</td>\n",
       "      <td>-94.697108</td>\n",
       "    </tr>\n",
       "    <tr>\n",
       "      <th>2</th>\n",
       "      <td>1329</td>\n",
       "      <td>1330</td>\n",
       "      <td>MN</td>\n",
       "      <td>27031</td>\n",
       "      <td>Cook</td>\n",
       "      <td>Grand Marais</td>\n",
       "      <td>5,176</td>\n",
       "      <td>47.538571</td>\n",
       "      <td>-90.290190</td>\n",
       "    </tr>\n",
       "    <tr>\n",
       "      <th>3</th>\n",
       "      <td>2289</td>\n",
       "      <td>2290</td>\n",
       "      <td>PA</td>\n",
       "      <td>42091</td>\n",
       "      <td>Montgomery</td>\n",
       "      <td>Norristown</td>\n",
       "      <td>799,874</td>\n",
       "      <td>40.209999</td>\n",
       "      <td>-75.370201</td>\n",
       "    </tr>\n",
       "    <tr>\n",
       "      <th>4</th>\n",
       "      <td>2818</td>\n",
       "      <td>2819</td>\n",
       "      <td>VT</td>\n",
       "      <td>50025</td>\n",
       "      <td>Windham</td>\n",
       "      <td>Newfane</td>\n",
       "      <td>44,513</td>\n",
       "      <td>42.999143</td>\n",
       "      <td>-72.716335</td>\n",
       "    </tr>\n",
       "  </tbody>\n",
       "</table>\n",
       "</div>"
      ],
      "text/plain": [
       "   Unnamed: 0   sno State   FIPS      County    CountySeat Population  \\\n",
       "0         606   607    IL  17023       Clark      Marshall     16,335   \n",
       "1         875   876    IA  19173      Taylor       Bedford      6,317   \n",
       "2        1329  1330    MN  27031        Cook  Grand Marais      5,176   \n",
       "3        2289  2290    PA  42091  Montgomery    Norristown    799,874   \n",
       "4        2818  2819    VT  50025     Windham       Newfane     44,513   \n",
       "\n",
       "    Latitude  Longitude  \n",
       "0  39.332364 -87.791687  \n",
       "1  40.737949 -94.697108  \n",
       "2  47.538571 -90.290190  \n",
       "3  40.209999 -75.370201  \n",
       "4  42.999143 -72.716335  "
      ]
     },
     "execution_count": 3,
     "metadata": {},
     "output_type": "execute_result"
    }
   ],
   "source": [
    "df = pd.read_csv('county_geocodes_utf.csv') # the file contains lattidues and longitudes of cities in all 50\n",
    "df.head()"
   ]
  },
  {
   "cell_type": "markdown",
   "metadata": {},
   "source": [
    "Let's organize the table a bit better by removing two columns and sorting it:"
   ]
  },
  {
   "cell_type": "code",
   "execution_count": 5,
   "metadata": {},
   "outputs": [
    {
     "data": {
      "text/html": [
       "<div>\n",
       "<style scoped>\n",
       "    .dataframe tbody tr th:only-of-type {\n",
       "        vertical-align: middle;\n",
       "    }\n",
       "\n",
       "    .dataframe tbody tr th {\n",
       "        vertical-align: top;\n",
       "    }\n",
       "\n",
       "    .dataframe thead th {\n",
       "        text-align: right;\n",
       "    }\n",
       "</style>\n",
       "<table border=\"1\" class=\"dataframe\">\n",
       "  <thead>\n",
       "    <tr style=\"text-align: right;\">\n",
       "      <th></th>\n",
       "      <th>State</th>\n",
       "      <th>FIPS</th>\n",
       "      <th>County</th>\n",
       "      <th>CountySeat</th>\n",
       "      <th>Population</th>\n",
       "      <th>Latitude</th>\n",
       "      <th>Longitude</th>\n",
       "    </tr>\n",
       "  </thead>\n",
       "  <tbody>\n",
       "    <tr>\n",
       "      <th>2400</th>\n",
       "      <td>AK</td>\n",
       "      <td>2150</td>\n",
       "      <td>Kodiak Island</td>\n",
       "      <td>Kodiak</td>\n",
       "      <td>13,592</td>\n",
       "      <td>57.553611</td>\n",
       "      <td>-153.630911</td>\n",
       "    </tr>\n",
       "    <tr>\n",
       "      <th>1558</th>\n",
       "      <td>AK</td>\n",
       "      <td>2275</td>\n",
       "      <td>Wrangell</td>\n",
       "      <td>Wrangell</td>\n",
       "      <td>2,369</td>\n",
       "      <td>56.279121</td>\n",
       "      <td>-132.040326</td>\n",
       "    </tr>\n",
       "    <tr>\n",
       "      <th>424</th>\n",
       "      <td>AK</td>\n",
       "      <td>2290</td>\n",
       "      <td>Yukon-Koyukuk [4]</td>\n",
       "      <td>Yukon-Koyukuk</td>\n",
       "      <td>5,588</td>\n",
       "      <td>65.376131</td>\n",
       "      <td>-151.576855</td>\n",
       "    </tr>\n",
       "    <tr>\n",
       "      <th>869</th>\n",
       "      <td>AK</td>\n",
       "      <td>2270</td>\n",
       "      <td>Wade Hampton [4]</td>\n",
       "      <td>Wade Hampton</td>\n",
       "      <td>7,459</td>\n",
       "      <td>62.283174</td>\n",
       "      <td>-163.190950</td>\n",
       "    </tr>\n",
       "    <tr>\n",
       "      <th>885</th>\n",
       "      <td>AK</td>\n",
       "      <td>2195</td>\n",
       "      <td>Petersburg [4]</td>\n",
       "      <td>Petersburg</td>\n",
       "      <td>3,815</td>\n",
       "      <td>56.639612</td>\n",
       "      <td>-133.527996</td>\n",
       "    </tr>\n",
       "  </tbody>\n",
       "</table>\n",
       "</div>"
      ],
      "text/plain": [
       "     State  FIPS             County      CountySeat Population   Latitude  \\\n",
       "2400    AK  2150      Kodiak Island          Kodiak     13,592  57.553611   \n",
       "1558    AK  2275           Wrangell        Wrangell      2,369  56.279121   \n",
       "424     AK  2290  Yukon-Koyukuk [4]  Yukon-Koyukuk       5,588  65.376131   \n",
       "869     AK  2270   Wade Hampton [4]   Wade Hampton       7,459  62.283174   \n",
       "885     AK  2195     Petersburg [4]     Petersburg       3,815  56.639612   \n",
       "\n",
       "       Longitude  \n",
       "2400 -153.630911  \n",
       "1558 -132.040326  \n",
       "424  -151.576855  \n",
       "869  -163.190950  \n",
       "885  -133.527996  "
      ]
     },
     "execution_count": 5,
     "metadata": {},
     "output_type": "execute_result"
    }
   ],
   "source": [
    "dfClean = df.drop(columns=['sno', 'Unnamed: 0'])\n",
    "dfClean.sort_values('State', inplace=True)\n",
    "dfClean.head()"
   ]
  },
  {
   "cell_type": "markdown",
   "metadata": {},
   "source": [
    "<a id=\"sec2\"></a>\n",
    "## 2. Randomly pick some locations"
   ]
  },
  {
   "cell_type": "code",
   "execution_count": 4,
   "metadata": {},
   "outputs": [],
   "source": [
    "import random\n",
    "random.seed(42) # make sure data remains consistent through runs"
   ]
  },
  {
   "cell_type": "code",
   "execution_count": 5,
   "metadata": {},
   "outputs": [
    {
     "data": {
      "text/plain": [
       "[2619, 456, 102, 3037, 1126, 1003, 914, 571, 3016, 419]"
      ]
     },
     "execution_count": 5,
     "metadata": {},
     "output_type": "execute_result"
    }
   ],
   "source": [
    "indices = random.sample(range(dfClean.shape[0]), 10)\n",
    "indices"
   ]
  },
  {
   "cell_type": "code",
   "execution_count": 6,
   "metadata": {},
   "outputs": [
    {
     "data": {
      "text/html": [
       "<div>\n",
       "<style scoped>\n",
       "    .dataframe tbody tr th:only-of-type {\n",
       "        vertical-align: middle;\n",
       "    }\n",
       "\n",
       "    .dataframe tbody tr th {\n",
       "        vertical-align: top;\n",
       "    }\n",
       "\n",
       "    .dataframe thead th {\n",
       "        text-align: right;\n",
       "    }\n",
       "</style>\n",
       "<table border=\"1\" class=\"dataframe\">\n",
       "  <thead>\n",
       "    <tr style=\"text-align: right;\">\n",
       "      <th></th>\n",
       "      <th>State</th>\n",
       "      <th>FIPS</th>\n",
       "      <th>County</th>\n",
       "      <th>CountySeat</th>\n",
       "      <th>Population</th>\n",
       "      <th>Latitude</th>\n",
       "      <th>Longitude</th>\n",
       "    </tr>\n",
       "  </thead>\n",
       "  <tbody>\n",
       "    <tr>\n",
       "      <th>456</th>\n",
       "      <td>AL</td>\n",
       "      <td>1059</td>\n",
       "      <td>Franklin</td>\n",
       "      <td>Russellville</td>\n",
       "      <td>31,704</td>\n",
       "      <td>34.441988</td>\n",
       "      <td>-87.842815</td>\n",
       "    </tr>\n",
       "    <tr>\n",
       "      <th>3016</th>\n",
       "      <td>GA</td>\n",
       "      <td>13177</td>\n",
       "      <td>Lee</td>\n",
       "      <td>Leesburg</td>\n",
       "      <td>28,298</td>\n",
       "      <td>31.818419</td>\n",
       "      <td>-84.146681</td>\n",
       "    </tr>\n",
       "    <tr>\n",
       "      <th>914</th>\n",
       "      <td>LA</td>\n",
       "      <td>22105</td>\n",
       "      <td>Tangipahoa</td>\n",
       "      <td>Amite</td>\n",
       "      <td>121,097</td>\n",
       "      <td>30.621581</td>\n",
       "      <td>-90.406633</td>\n",
       "    </tr>\n",
       "    <tr>\n",
       "      <th>3037</th>\n",
       "      <td>MA</td>\n",
       "      <td>25025</td>\n",
       "      <td>Suffolk</td>\n",
       "      <td>Boston</td>\n",
       "      <td>722,023</td>\n",
       "      <td>42.331960</td>\n",
       "      <td>-71.020173</td>\n",
       "    </tr>\n",
       "    <tr>\n",
       "      <th>1003</th>\n",
       "      <td>MI</td>\n",
       "      <td>26109</td>\n",
       "      <td>Menominee</td>\n",
       "      <td>Menominee</td>\n",
       "      <td>24,029</td>\n",
       "      <td>45.544174</td>\n",
       "      <td>-87.509892</td>\n",
       "    </tr>\n",
       "    <tr>\n",
       "      <th>419</th>\n",
       "      <td>ND</td>\n",
       "      <td>38037</td>\n",
       "      <td>Grant</td>\n",
       "      <td>Carson</td>\n",
       "      <td>2,394</td>\n",
       "      <td>46.357827</td>\n",
       "      <td>-101.639049</td>\n",
       "    </tr>\n",
       "    <tr>\n",
       "      <th>571</th>\n",
       "      <td>NY</td>\n",
       "      <td>36001</td>\n",
       "      <td>Albany</td>\n",
       "      <td>Albany</td>\n",
       "      <td>304,204</td>\n",
       "      <td>42.588271</td>\n",
       "      <td>-73.974014</td>\n",
       "    </tr>\n",
       "    <tr>\n",
       "      <th>102</th>\n",
       "      <td>OH</td>\n",
       "      <td>39017</td>\n",
       "      <td>Butler</td>\n",
       "      <td>Hamilton</td>\n",
       "      <td>368,130</td>\n",
       "      <td>39.439915</td>\n",
       "      <td>-84.565397</td>\n",
       "    </tr>\n",
       "    <tr>\n",
       "      <th>1126</th>\n",
       "      <td>TX</td>\n",
       "      <td>48199</td>\n",
       "      <td>Hardin</td>\n",
       "      <td>Kountze</td>\n",
       "      <td>54,635</td>\n",
       "      <td>30.329612</td>\n",
       "      <td>-94.393149</td>\n",
       "    </tr>\n",
       "    <tr>\n",
       "      <th>2619</th>\n",
       "      <td>VA</td>\n",
       "      <td>51019</td>\n",
       "      <td>Bedford</td>\n",
       "      <td>Bedford</td>\n",
       "      <td>68,676</td>\n",
       "      <td>37.312408</td>\n",
       "      <td>-79.527947</td>\n",
       "    </tr>\n",
       "  </tbody>\n",
       "</table>\n",
       "</div>"
      ],
      "text/plain": [
       "     State   FIPS      County    CountySeat Population   Latitude   Longitude\n",
       "456     AL   1059    Franklin  Russellville     31,704  34.441988  -87.842815\n",
       "3016    GA  13177         Lee      Leesburg     28,298  31.818419  -84.146681\n",
       "914     LA  22105  Tangipahoa         Amite    121,097  30.621581  -90.406633\n",
       "3037    MA  25025     Suffolk        Boston    722,023  42.331960  -71.020173\n",
       "1003    MI  26109   Menominee     Menominee     24,029  45.544174  -87.509892\n",
       "419     ND  38037       Grant        Carson      2,394  46.357827 -101.639049\n",
       "571     NY  36001      Albany        Albany    304,204  42.588271  -73.974014\n",
       "102     OH  39017      Butler      Hamilton    368,130  39.439915  -84.565397\n",
       "1126    TX  48199      Hardin       Kountze     54,635  30.329612  -94.393149\n",
       "2619    VA  51019     Bedford      Bedford      68,676  37.312408  -79.527947"
      ]
     },
     "execution_count": 6,
     "metadata": {},
     "output_type": "execute_result"
    }
   ],
   "source": [
    "ourChoices = dfClean[dfClean.index.isin(indices)]\n",
    "ourChoices"
   ]
  },
  {
   "cell_type": "markdown",
   "metadata": {},
   "source": [
    "We will be searching Google by pretending to be in one of these locations."
   ]
  },
  {
   "cell_type": "markdown",
   "metadata": {},
   "source": [
    "<a id=\"sec3\"></a>\n",
    "## 3. Setup the Selenium Driver\n",
    "\n",
    "I have tested the following code with Chrome version 97. Chrome drivers can be downloaded from [here](https://chromedriver.chromium.org/downloads)."
   ]
  },
  {
   "cell_type": "code",
   "execution_count": 13,
   "metadata": {},
   "outputs": [],
   "source": [
    "import selenium\n",
    "from selenium import webdriver\n",
    "from selenium.webdriver.common.desired_capabilities import DesiredCapabilities\n",
    "from selenium.webdriver.chrome.options import Options\n",
    "from time import sleep"
   ]
  },
  {
   "cell_type": "markdown",
   "metadata": {},
   "source": [
    "Let's create an instance of the driver for testing:"
   ]
  },
  {
   "cell_type": "code",
   "execution_count": 15,
   "metadata": {},
   "outputs": [
    {
     "name": "stderr",
     "output_type": "stream",
     "text": [
      "<ipython-input-15-00c86ce205ca>:11: DeprecationWarning: executable_path has been deprecated, please pass in a Service object\n",
      "  driver = webdriver.Chrome(executable_path=driverpath,\n"
     ]
    }
   ],
   "source": [
    "# Set the driver path\n",
    "driverpath ='../driver/chromedriver'\n",
    "\n",
    "chrome_options = webdriver.ChromeOptions()\n",
    "# This option is what will allow to change the geolocation\n",
    "chrome_options.add_experimental_option(\"prefs\", { \"profile.default_content_settings.geolocation\": 1})\n",
    "\n",
    "\n",
    "# Create the driver instance\n",
    "driver = webdriver.Chrome(executable_path=driverpath, \n",
    "                          options=chrome_options)\n",
    "\n",
    "# Search for the phrase 'pizza'\n",
    "driver.get(\"https://google.com/search?query=pizza\")"
   ]
  },
  {
   "cell_type": "markdown",
   "metadata": {},
   "source": [
    "If you are in Wellesley when you run this code, you should be able to see the Pizza location in Wellesley, as the screenshot below shows.\n",
    "\n",
    "<img src=\"pizza.png\" width=\"600\">"
   ]
  },
  {
   "cell_type": "markdown",
   "metadata": {},
   "source": [
    "Meanwhile, if we look at the bottom of the browser page, we will see an approximate location and the opportunity to update it, see screenshot:\n",
    "\n",
    "<img src=\"location1.png\" width=450>\n",
    "\n",
    "That is what our code below will do. Selenium will click on the \"Update location\" link and set the coordinates to a different location of our choice."
   ]
  },
  {
   "cell_type": "code",
   "execution_count": 16,
   "metadata": {},
   "outputs": [
    {
     "name": "stderr",
     "output_type": "stream",
     "text": [
      "<ipython-input-16-02b981d97e04>:4: DeprecationWarning: find_element_by_* commands are deprecated. Please use find_element() instead\n",
      "  driver.find_element_by_css_selector(\"update-location\").click()\n"
     ]
    }
   ],
   "source": [
    "# coordinates for Albany count, NY\n",
    "coordDict = {'latitude': 42.588271, 'longitude': -73.974014, 'accuracy': 100}\n",
    "driver.execute_cdp_cmd(\"Emulation.setGeolocationOverride\", coordDict)\n",
    "driver.find_element_by_css_selector(\"update-location\").click()"
   ]
  },
  {
   "cell_type": "markdown",
   "metadata": {},
   "source": [
    "If we look at the browser, two things have happened:\n",
    "1. the pizza locations are different\n",
    "2. the geolocation at the bottom of the page is different as well\n",
    "\n",
    "See screenshots:\n",
    "\n",
    "<p><img src=\"pizza2.png\" width=600><img src=\"location2.png\" width=450></p>"
   ]
  },
  {
   "cell_type": "markdown",
   "metadata": {},
   "source": [
    "If we search for the Zip code, we find that it belongs to the town of Voorheesville, in the Albany County, in NY.\n",
    "<img src=\"zipcode.png\" width=650>\n",
    "\n",
    "Two of the pizzerias listed in the results are in the town of Voorheesville, so the code is working correctly."
   ]
  },
  {
   "cell_type": "code",
   "execution_count": 10,
   "metadata": {},
   "outputs": [],
   "source": [
    "# Close the driver\n",
    "driver.close()"
   ]
  },
  {
   "cell_type": "markdown",
   "metadata": {},
   "source": [
    "Now that we know that this works, we can package everything in one single function.\n",
    "We want the function to be able to:\n",
    "\n",
    "1. take different locations\n",
    "2. take different query phrases\n",
    "3. save the page in a file (for later processing)\n",
    "\n",
    "We will create a function that has three parameters to take into account these needs."
   ]
  },
  {
   "cell_type": "code",
   "execution_count": 11,
   "metadata": {},
   "outputs": [],
   "source": [
    "import time, os\n",
    "\n",
    "def search_geolocation(query, coordinatesDict, locationName):\n",
    "    \"\"\"\n",
    "    This function can search Google by changing the location for \n",
    "    the search. Parameters:\n",
    "    query - a string that contains the phrase that will be searched\n",
    "    locationName - a string that is used to save the search results page\n",
    "    coordinatesDict - a dictionary with the latitude, longitude, and accuracy\n",
    "    \"\"\"\n",
    "    # Create a new instance of the driver for every search\n",
    "    driver = webdriver.Chrome(executable_path=driverpath, \n",
    "                              options=chrome_options)\n",
    "    \n",
    "    # setup the new coordinates\n",
    "    driver.execute_cdp_cmd(\"Emulation.setGeolocationOverride\", \n",
    "                           coordinatesDict)\n",
    "    \n",
    "    # perform the search, because we need the location link to show\n",
    "    url = f\"https://google.com/search?q={query}\"\n",
    "    driver.get(url)\n",
    "    \n",
    "    # find the link that will help update the location\n",
    "    try:\n",
    "        driver.find_element_by_css_selector(\"update-location\").click()\n",
    "    except:\n",
    "        # sometimes, the page is not loaded, so we'll wait and try again\n",
    "        sleep(2)\n",
    "        driver.find_element_by_css_selector(\"update-location\").click()\n",
    "    # wait for the new content to be loaded\n",
    "    sleep(2)\n",
    "\n",
    "    # Access the content of the page\n",
    "    htmlPage = driver.page_source\n",
    "    \n",
    "    # if a folder with the name of the query doesn't exist, create it, then save the file\n",
    "    if not os.path.isdir(query):\n",
    "        os.mkdir(query)\n",
    "    with open(f\"{query}/{locationName}.html\", 'w', encoding='utf-8') as output:\n",
    "        output.write(htmlPage)\n",
    "        \n",
    "    # close the instance\n",
    "    driver.close()"
   ]
  },
  {
   "cell_type": "markdown",
   "metadata": {},
   "source": [
    "Let's test this function:"
   ]
  },
  {
   "cell_type": "code",
   "execution_count": 12,
   "metadata": {},
   "outputs": [],
   "source": [
    "coordDict = {'latitude': 42.588271, 'longitude': -73.974014, 'accuracy': 100}\n",
    "query = \"pizza\"\n",
    "location=\"Albany_County\"\n",
    "\n",
    "search_geolocation(query, coordDict, location)"
   ]
  },
  {
   "cell_type": "markdown",
   "metadata": {},
   "source": [
    "Check the folder of the notebook. A new directory \"pizza\" with the file \"Albany_County.html\" should have been stored within it, with the pizza locations that we saw previously in the notebook."
   ]
  },
  {
   "cell_type": "markdown",
   "metadata": {},
   "source": [
    "<a id=\"sec4\"></a>\n",
    "## 4. Perform searches\n",
    "\n",
    "Now that the code works and we have a function that can be called with various paremeters, let's search for a few queries in the random locations we identified above. We need first to get the data from the dataframe and prepare them as parameters for the search function:"
   ]
  },
  {
   "cell_type": "code",
   "execution_count": 13,
   "metadata": {},
   "outputs": [
    {
     "name": "stdout",
     "output_type": "stream",
     "text": [
      "AL_Russellville {'latitude': 34.441988, 'longitude': -87.842815, 'accuracy': 100}\n",
      "GA_Leesburg {'latitude': 31.818419, 'longitude': -84.146681, 'accuracy': 100}\n",
      "LA_Amite {'latitude': 30.621581, 'longitude': -90.406633, 'accuracy': 100}\n",
      "MA_Boston {'latitude': 42.33196, 'longitude': -71.020173, 'accuracy': 100}\n",
      "MI_Menominee {'latitude': 45.544174, 'longitude': -87.50989200000002, 'accuracy': 100}\n",
      "ND_Carson {'latitude': 46.357827, 'longitude': -101.639049, 'accuracy': 100}\n",
      "NY_Albany {'latitude': 42.588271, 'longitude': -73.974014, 'accuracy': 100}\n",
      "OH_Hamilton {'latitude': 39.439915, 'longitude': -84.56539699999998, 'accuracy': 100}\n",
      "TX_Kountze {'latitude': 30.329612, 'longitude': -94.393149, 'accuracy': 100}\n",
      "VA_Bedford  {'latitude': 37.31240800000001, 'longitude': -79.527947, 'accuracy': 100}\n"
     ]
    }
   ],
   "source": [
    "for ind in ourChoices.index:\n",
    "    row = ourChoices.loc[ind].to_dict()\n",
    "    fileName = f\"{row['State']}_{row['CountySeat']}\"\n",
    "    locationsDct = {'latitude': row['Latitude'], \n",
    "                    'longitude': row['Longitude'], \n",
    "                    'accuracy': 100}\n",
    "    print(fileName, locationsDct)"
   ]
  },
  {
   "cell_type": "markdown",
   "metadata": {},
   "source": [
    "This works fine, so we'll go and perform the searches now.\n",
    "\n",
    "We'll search for three queries: \"supreme court\", \"covid tests\", \"vaccine mandate\"."
   ]
  },
  {
   "cell_type": "code",
   "execution_count": 14,
   "metadata": {},
   "outputs": [
    {
     "name": "stdout",
     "output_type": "stream",
     "text": [
      "supreme court AL_Russellville\n",
      "supreme court GA_Leesburg\n",
      "supreme court LA_Amite\n",
      "supreme court MA_Boston\n",
      "supreme court MI_Menominee\n",
      "supreme court ND_Carson\n",
      "supreme court NY_Albany\n",
      "supreme court OH_Hamilton\n",
      "supreme court TX_Kountze\n",
      "supreme court VA_Bedford \n",
      "covid tests AL_Russellville\n",
      "covid tests GA_Leesburg\n",
      "covid tests LA_Amite\n",
      "covid tests MA_Boston\n",
      "covid tests MI_Menominee\n",
      "covid tests ND_Carson\n",
      "covid tests NY_Albany\n",
      "covid tests OH_Hamilton\n",
      "covid tests TX_Kountze\n",
      "covid tests VA_Bedford \n",
      "vaccine mandate AL_Russellville\n",
      "vaccine mandate GA_Leesburg\n",
      "vaccine mandate LA_Amite\n",
      "vaccine mandate MA_Boston\n",
      "vaccine mandate MI_Menominee\n",
      "vaccine mandate ND_Carson\n",
      "vaccine mandate NY_Albany\n",
      "vaccine mandate OH_Hamilton\n",
      "vaccine mandate TX_Kountze\n",
      "vaccine mandate VA_Bedford \n"
     ]
    }
   ],
   "source": [
    "for query in [\"supreme court\", \"covid tests\", \"vaccine mandate\"]:\n",
    "    \n",
    "    for ind in ourChoices.index:\n",
    "        row = ourChoices.loc[ind].to_dict()\n",
    "        fileName = f\"{row['State']}_{row['CountySeat']}\"\n",
    "        locationsDct = {'latitude': row['Latitude'], \n",
    "                        'longitude': row['Longitude'], \n",
    "                        'accuracy': 100}\n",
    "        \n",
    "        search_geolocation(query, locationsDct, fileName)\n",
    "        \n",
    "        print(query, fileName)"
   ]
  },
  {
   "cell_type": "code",
   "execution_count": null,
   "metadata": {},
   "outputs": [],
   "source": []
  }
 ],
 "metadata": {
  "kernelspec": {
   "display_name": "Python 3",
   "language": "python",
   "name": "python3"
  },
  "language_info": {
   "codemirror_mode": {
    "name": "ipython",
    "version": 3
   },
   "file_extension": ".py",
   "mimetype": "text/x-python",
   "name": "python",
   "nbconvert_exporter": "python",
   "pygments_lexer": "ipython3",
   "version": "3.8.8"
  }
 },
 "nbformat": 4,
 "nbformat_minor": 4
}
